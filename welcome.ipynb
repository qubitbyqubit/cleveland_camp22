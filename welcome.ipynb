{
 "cells": [
  {
   "cell_type": "markdown",
   "metadata": {
    "collapsed": false,
    "tags": [
    ]
   },
   "source": [
    "<div class=\"alert alert-info\">\n",
    "    <h1><strong>Welcome to the 2022 Cleveland In-Person Summer Camp!</strong></h1>\n",
    "    <h2>This notebook will give a short tutorial on using Jupyter Notebooks and IQX.</h2>\n",
    "</div>\n",
    "\n",
    "## First, let's check if all the files were correctly imported!\n",
    "\n",
    "On your left, you should see a folder called \"Lab Notebooks.\" This folder contains the three coding exercises that we will complete during the camp.\n",
    "\n",
    "___\n",
    "\n"
   ]
  },
  {
   "cell_type": "markdown",
   "metadata": {
    "collapsed": false
   },
   "source": [
    "# Using Jupyter Notebooks\n",
    "\n",
    "You are currently viewing a Jupyter notebook in the IBM Quantum Lab.\n",
    "Jupyter notebooks do two things:\n",
    "\n",
    "1. They allow you to interactively run python code.\n",
    "2. They allow for description cells to contain instructions and explanations.\n",
    "\n",
    "Each page in a Jupyter notebook is split into a series of *cells*. You can see which cell is active by looking at the blue bar on the left hand side of the page. Each cell is either a `code` cell or a ***markdown*** cell. Markdown just displays text. You can change the cell type by using the drop down on the toolbar at the top of the page.\n",
    "\n",
    "### Writing in cells\n",
    "\n",
    "Jupyter has two modes: `edit` mode and `command` mode. If you can see a cursor blinking, then you are in edit mode. You can always use your mouse to *click* into any cell.\n",
    "\n",
    "> The shortcuts to switch between edit/command modes are `esc` and `enter`:  `esc` will place you in `command` mode (in fact, shortcuts only work when you are in command mode), and `enter` will put you back in `edit` mode.\n",
    "\n",
    "### Adding new cells\n",
    "\n",
    "Click the `+` button at the top of the page to add a new cell.\n",
    "\n",
    ">The shortcut to add new cells is `esc` followed by `b`.\n",
    "\n",
    "### Running Cells\n",
    "\n",
    "Click the `▶`button at the top to run a cell. ***Markdown*** cells will render code, and `code` cells will execute code.\n",
    "\n",
    ">The shortcut to run cells is `Shift`+`enter`.\n",
    "\n",
    "### Deleting Cells\n",
    "\n",
    "On the very top menu bar go to *edit* > *Delete Cells*.\n",
    "\n",
    ">The shortcut is `esc` followed by `d` and `d`. (Yes, you have to press d twice!)\n",
    "\n",
    "___\n",
    "\n",
    "## Let's try it out:\n",
    "\n"
   ]
  },
  {
   "cell_type": "code",
   "execution_count": 0,
   "metadata": {
    "collapsed": false
   },
   "outputs": [
   ],
   "source": [
    "'''Run this code cell!'''\n",
    "# Bit of python:\n",
    "for i in range(5):\n",
    "    print('Hello, World!')"
   ]
  },
  {
   "cell_type": "code",
   "execution_count": 7,
   "metadata": {
    "collapsed": false
   },
   "outputs": [
   ],
   "source": [
    "'''Add a code cell below me that prints the variable'''\n",
    "variable = \"I'm a variable\""
   ]
  },
  {
   "cell_type": "markdown",
   "metadata": {
    "collapsed": false
   },
   "source": [
    "# Click into this markdown cell and then run it to render the equation:\n",
    "\\begin{align}\n",
    "    i = \\sqrt{-1}\n",
    "\\end{align}"
   ]
  }
 ],
 "metadata": {
  "kernelspec": {
   "display_name": "Python 3 (system-wide)",
   "language": "python",
   "metadata": {
    "cocalc": {
     "description": "Python 3 programming language",
     "priority": 100,
     "url": "https://www.python.org/"
    }
   },
   "name": "python3",
   "resource_dir": "/ext/jupyter/kernels/python3"
  },
  "language_info": {
   "codemirror_mode": {
    "name": "ipython",
    "version": 3
   },
   "file_extension": ".py",
   "mimetype": "text/x-python",
   "name": "python",
   "nbconvert_exporter": "python",
   "pygments_lexer": "ipython3",
   "version": "3.9.5"
  },
  "widgets": {
   "application/vnd.jupyter.widget-state+json": {
    "state": {
    },
    "version_major": 2,
    "version_minor": 0
   }
  }
 },
 "nbformat": 4,
 "nbformat_minor": 4
}