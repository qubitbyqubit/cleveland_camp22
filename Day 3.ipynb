{
 "cells": [
  {
   "cell_type": "markdown",
   "id": "3ad0539b-5ef7-4647-a18f-ad1ccd719255",
   "metadata": {},
   "source": [
    "# SQA Intro"
   ]
  },
  {
   "cell_type": "markdown",
   "id": "3c374d19-72ab-4370-b4df-a51b433599ce",
   "metadata": {
    "id": "d2497f68-e565-4dec-8d5e-ec337e37128e"
   },
   "source": [
    "<div style=\"text-align: center; margin: 50px\">\n",
    "\n",
    "<h1 style=\"text-align: center;\">Qubit by Qubit</h1>\n",
    "<h2 style=\"text-align: center;\">Introduction to Quantum Computing</h1>\n",
    "<h3>Creating Quantum Circuits</h3>\n",
    "<h3>Lab notebook</h3>\n",
    "\n",
    "</div>"
   ]
  },
  {
   "cell_type": "code",
   "execution_count": 2,
   "id": "2b18f5b2-e889-419d-8360-63a320643bfd",
   "metadata": {
    "id": "863aa459-349d-43be-b305-f1ca757b4858"
   },
   "outputs": [
    {
     "name": "stdout",
     "output_type": "stream",
     "text": [
      "Libraries imported successfully!\n"
     ]
    }
   ],
   "source": [
    "# Importing standard Qiskit libraries\n",
    "from qiskit import QuantumCircuit  #Importing the QuantumCircuit function from Qiskit. We will use this to create our quantum circuits!\n",
    "\n",
    "# We will use these functions to run our circuit and visualize its final state\n",
    "from qiskit import Aer, execute, IBMQ \n",
    "from qiskit.visualization import *\n",
    "\n",
    "provider = IBMQ.load_account()\n",
    "print(\"Libraries imported successfully!\")"
   ]
  },
  {
   "cell_type": "code",
   "execution_count": null,
   "id": "5b3577f1-3374-4718-b6e2-8d4285797b4d",
   "metadata": {
    "id": "099f3744-dc19-43b9-9649-8a196d67015f"
   },
   "outputs": [],
   "source": [
    "# Block 4 - Step 3: Visualize the result of your circuit using visualize_transition(qc, trace=True)"
   ]
  },
  {
   "cell_type": "code",
   "execution_count": null,
   "id": "62351fa0-50e2-47b0-92c6-25b2273e39c7",
   "metadata": {
    "id": "cd12c286-8bb3-4277-b79f-75447b86cbb5"
   },
   "outputs": [],
   "source": [
    "# Block 5 - Step 1: Create a quantum circuit with 1 qubit and 1 classical bit"
   ]
  },
  {
   "cell_type": "code",
   "execution_count": null,
   "id": "caac78c2-caf3-47c3-b69c-985fe9a8095a",
   "metadata": {
    "id": "171da160-ff63-45d8-83a3-7cecde1e3162"
   },
   "outputs": [],
   "source": [
    "# Block 6 - Step 2: Add an H gate to your circuit and draw it"
   ]
  },
  {
   "cell_type": "code",
   "execution_count": null,
   "id": "d1a7f515-d636-4190-ab59-9f6974f82cbd",
   "metadata": {
    "id": "edbe237d-88f3-4150-bbf7-33f7a7d37394"
   },
   "outputs": [],
   "source": [
    "# Block 7 - Step 2: Add a measurement to your circuit using qc.measure(0,0)\n"
   ]
  },
  {
   "cell_type": "code",
   "execution_count": null,
   "id": "99b7f3fb-8839-42d1-998f-b4a32a22317b",
   "metadata": {
    "id": "ace1275a-fd82-4eec-a595-b0c093eb5654"
   },
   "outputs": [],
   "source": [
    "# Block 8 - Draw your circuit\n"
   ]
  },
  {
   "cell_type": "code",
   "execution_count": null,
   "id": "cfaaa41a-51e9-4a99-98c8-34bc6623a06e",
   "metadata": {
    "id": "e0b6ebc0-237d-4661-8acd-f87312e5c3aa"
   },
   "outputs": [],
   "source": [
    "# Block 9 - Step 3: Run your circuit using the QASM simulator\n",
    "\n",
    "# Step 3.1 - Setting up and running the QASM simulator.\n",
    "backend = Aer.get_backend('qasm_simulator') # Choosing the simulator we want to use\n",
    "job = execute(qc, backend, shots = 1024) # Running the simulator - specifying the circuit we want to simulate and the number of times we want to simulate it (shots)\n",
    "result = job.result() # Getting the result from the simulator\n",
    "\n",
    "# Step 3.2 - Visualizing the results of the QASM simulator \n",
    "counts = result.get_counts() # Getting the counts of 0 and 1 from the result\n",
    "plot_histogram(counts) # Plotting the counts of 0 and 1"
   ]
  },
  {
   "cell_type": "code",
   "execution_count": null,
   "id": "a829914f-c9d0-4d55-9878-8047e9fb1d87",
   "metadata": {
    "id": "91c69206-4f51-446a-8471-e0dc05fc2f5a"
   },
   "outputs": [],
   "source": [
    "# Block 10 - Create a quantum circuit with 1 qubit and 1 classical bit. \n",
    "# Add an X gate and then an H gate to the circuit. \n",
    "# Add a measurement to the circuit and draw it.\n"
   ]
  },
  {
   "cell_type": "code",
   "execution_count": null,
   "id": "5e5c7476-a34e-4962-91a0-9d8a3c16dbaa",
   "metadata": {
    "id": "a3ca190d-2613-4621-a991-3e09264958c8"
   },
   "outputs": [],
   "source": [
    "# Block 11 - Set up and run the circuit using the QASM simulator. You can copy the code from Block 9.\n"
   ]
  },
  {
   "cell_type": "code",
   "execution_count": null,
   "id": "4f442dc2-f6f8-44a0-8874-812baf65b807",
   "metadata": {
    "id": "ebbbe94f-f584-49b2-a94c-2d499870c45b"
   },
   "outputs": [],
   "source": [
    "# Block 12 - Create a quantum circuit with 1 qubit and 1 classical bit. Add two X gates to this circuit. Add a measurement to this circuit and draw it. \n"
   ]
  },
  {
   "cell_type": "code",
   "execution_count": null,
   "id": "39660751-6549-48d9-9e2c-34dbe7f15359",
   "metadata": {
    "id": "f145d724-fb39-4407-9f14-626e74cbc763"
   },
   "outputs": [],
   "source": [
    "# Block 13 - This block finds the least busy quantum computer from all the devices available on IBM Quantum Experience.\n",
    "# Run this block and let your TA know which backend you got!\n",
    "\n",
    "from qiskit.providers.ibmq import least_busy\n",
    "backend = least_busy(provider.backends(filters=lambda x: x.configuration().n_qubits >= 2 and \n",
    "                                        not x.configuration().simulator and x.status().operational==True))\n",
    "print(backend)"
   ]
  },
  {
   "cell_type": "code",
   "execution_count": null,
   "id": "10da0621-0c11-4306-ab3a-b5f1df3b19cd",
   "metadata": {
    "id": "8d94f68e-9c72-440d-8a5d-ba5e9d190f82"
   },
   "outputs": [],
   "source": [
    "# Block 14 - Run this block to send your circuit to be run on a real quantum computer!\n",
    "job = execute(qc, backend, shots = 1024)\n",
    "result = job.result()\n",
    "counts = result.get_counts()\n",
    "plot_histogram(counts)"
   ]
  },
  {
   "cell_type": "code",
   "execution_count": null,
   "id": "9873f686-1f89-4c87-bfd5-526d0e9f0274",
   "metadata": {
    "id": "623acb0b-9ca9-4cff-b755-bb7198955fb4"
   },
   "outputs": [],
   "source": [
    "# Qiskit Challenge exercise 1 - The Z gate\n",
    "# In lecture we discussed the X and H gates. Another fundamental quantum gate is the Z gate.\n",
    "# Create a quantum circuit (with 1 qubit and no classical bits) with an H gate followed by a Z gate. Can you guess what the code for adding a Z gate would be?\n",
    "# Simulate this circuit using the visualize_transition function from the first part of lab\n",
    "# What can you say about the action of the Z gate? Is it also a rotation? About which axis of the Bloch sphere?"
   ]
  },
  {
   "cell_type": "code",
   "execution_count": null,
   "id": "ca8781e6-16c1-44b5-8355-cfea59e9d424",
   "metadata": {
    "id": "5a31007f-d510-4f75-8d78-252352accc88"
   },
   "outputs": [],
   "source": [
    "# Qiskit Challenge exercise 2 - Ordering of gates\n",
    "# In this exercise, we will explore whether the ordering of gates in a circuit is important or not\n",
    "# Create a quantum circut with a Z gate followed by an H gate. Note that the order of gates in this circuit is the reverse of the circuit from Challenge 1\n",
    "# Simulate this circuit using visualize_transition.\n",
    "# Is the final state of the circuit the same as that for the circuit in challenge 1? "
   ]
  },
  {
   "cell_type": "markdown",
   "id": "80bfe792-31b0-4c9b-9796-502b130d912d",
   "metadata": {},
   "source": [
    "___"
   ]
  },
  {
   "cell_type": "markdown",
   "id": "82538d7a-368f-4c28-94e4-772311c8d202",
   "metadata": {
    "tags": []
   },
   "source": [
    "## Coding Quantum Circuits in Qiskit\n",
    "\n",
    "This notebook will get you up to speed on:\n",
    "* Applying Gates\n",
    "* Using Simulators\n",
    "* Building circuits with functions"
   ]
  },
  {
   "cell_type": "markdown",
   "id": "af47e61d-ebe5-4b87-aa9e-e7781c71fa63",
   "metadata": {
    "id": "0OiHrhZjDt9J",
    "tags": []
   },
   "source": [
    "### The `QuantumCircuit` Class\n",
    "The `QuantumCircuit` class is qiskit's way of designing a quanutm circuit, it takes two inputs: `qubits` and `classical bits` which tell the circuit how many qubits and classical bits to use.\n",
    "\n",
    "We can build a quantum circuit in qiskit with the following:\n",
    "```python\n",
    "qc = QuantumCircuit(q,c)\n",
    "```"
   ]
  },
  {
   "cell_type": "code",
   "execution_count": 15,
   "id": "4406390c-ed4f-468f-b273-e1200d437417",
   "metadata": {
    "colab": {
     "base_uri": "https://localhost:8080/",
     "height": 140
    },
    "executionInfo": {
     "elapsed": 538,
     "status": "ok",
     "timestamp": 1604279108643,
     "user": {
      "displayName": "Akshay Agarwal",
      "photoUrl": "",
      "userId": "05018767796152976477"
     },
     "user_tz": 300
    },
    "id": "nSv7ktpUDt9J",
    "outputId": "0fd7dc62-582b-43d8-af38-03e88c3015d6"
   },
   "outputs": [],
   "source": [
    "# This creates a quantum circuit with 1 qubit and 1 classical bit\n",
    "qc = QuantumCircuit(1,1)"
   ]
  },
  {
   "cell_type": "markdown",
   "id": "6572d62c-c7f4-42c5-8011-f6367d1b9764",
   "metadata": {},
   "source": [
    "### Drawing and Displaying Circuits\n",
    "\n",
    "Qiskit has a function `circ.draw()` for drawing a diagram of circuits. We can also specify the output type, here we choose to use matplotlib `output=\"mpl\"`.\n",
    "\n",
    "Together we can visualise our circuit with: `circ.draw(output=\"mpl\")`"
   ]
  },
  {
   "cell_type": "code",
   "execution_count": 16,
   "id": "407a7034-d021-443a-bf9d-317ca3b5849c",
   "metadata": {},
   "outputs": [
    {
     "data": {
      "image/png": "[encoded data removed]",
      "text/plain": [
       "<Figure size 103.426x144.48 with 1 Axes>"
      ]
     },
     "execution_count": 16,
     "metadata": {},
     "output_type": "execute_result"
    }
   ],
   "source": [
    "# This prints out a diagram of the circuit, the \"mpl\" makes it look pretty!\n",
    "qc.draw(output=\"mpl\")"
   ]
  },
  {
   "cell_type": "markdown",
   "id": "cb39fd60-8ce4-440d-8cfd-5b1910851090",
   "metadata": {
    "id": "qQ1MRyu3Dt9O"
   },
   "source": [
    "### Adding gates to a quantum circuit\n",
    "This can be done by calling the `qc.gate(qubit)` command. \n",
    "Here the `gate` refers to the gate type, and the `qubit` refers to the qubit (or qubits) on which the gate is acting"
   ]
  },
  {
   "cell_type": "code",
   "execution_count": 17,
   "id": "55c8861d-a84f-4af3-a8fa-016750062bdb",
   "metadata": {
    "colab": {
     "base_uri": "https://localhost:8080/",
     "height": 140
    },
    "executionInfo": {
     "elapsed": 469,
     "status": "ok",
     "timestamp": 1604279131917,
     "user": {
      "displayName": "Akshay Agarwal",
      "photoUrl": "",
      "userId": "05018767796152976477"
     },
     "user_tz": 300
    },
    "id": "9QYYCbmODt9O",
    "outputId": "3264bb79-1e65-4867-aba5-43adda2661ed"
   },
   "outputs": [
    {
     "data": {
      "image/png": "[encoded data removed]",
      "text/plain": [
       "<Figure size 133.526x144.48 with 1 Axes>"
      ]
     },
     "execution_count": 17,
     "metadata": {},
     "output_type": "execute_result"
    }
   ],
   "source": [
    "# Adding a NOT gate (aka an X gate) to qubit 0\n",
    "qc.x(0)\n",
    "qc.draw(output=\"mpl\")"
   ]
  },
  {
   "cell_type": "markdown",
   "id": "012a434b-5256-4d63-9702-b34ed642fcdf",
   "metadata": {
    "id": "FXW3ckDyDt9S"
   },
   "source": [
    "<a id=\"q1a\"></a>\n",
    "# Practice: Implementing single qubit gates\n",
    "## Single Qubit Gates\n",
    "\n",
    "### *The X Gate* \n",
    "The X gate rotates the state vector by $\\pi$ radians about the x-axis on the bloch sphere.\n",
    "\n",
    "The syntax for an X gate is: `qc.x(target)` where `qc` is an initialized `QuantumCircuit` and `target` is the number of the qubit where you would like to apply the gate.\n",
    "\n",
    "**Block 1:**\n",
    "Initialize a new circuit and add an X gate to it, then draw it."
   ]
  },
  {
   "cell_type": "code",
   "execution_count": 3,
   "id": "f65b7aa8-f9d5-4c50-8712-7f99dd98a7c0",
   "metadata": {
    "id": "58x_yexwhnTm"
   },
   "outputs": [
    {
     "data": {
      "image/png": "[encoded data removed]",
      "text/plain": [
       "<Figure size 133.526x144.48 with 1 Axes>"
      ]
     },
     "execution_count": 3,
     "metadata": {},
     "output_type": "execute_result"
    }
   ],
   "source": [
    "# BLOCK 1\n",
    "\n",
    "### SOLUTION START ###\n",
    "qc = QuantumCircuit(1,1)\n",
    "qc.x(0)\n",
    "qc.draw(\"mpl\")\n",
    "\n",
    "#### SOLUTION END ###"
   ]
  },
  {
   "cell_type": "markdown",
   "id": "8d00fee9-0ecd-4177-96ff-c8d90dc6e219",
   "metadata": {
    "id": "8o34NMgogUOF"
   },
   "source": [
    "<a id=\"q1b\"></a>\n",
    "\n",
    "### *The Y Gate* \n",
    "\n",
    "The Y gate rotates the state 180 degrees about the y-axis on the bloch sphere.\n",
    "\n",
    "The syntax for a Y gate is: `qc.y(target)` where `qc` is an initialized `QuantumCircuit` and `target` is the number of the qubit where you would like to apply the gate.\n",
    "\n",
    "**Block 2:**\n",
    "Initialize a new circuit and add a Y gate to it, then draw it."
   ]
  },
  {
   "cell_type": "code",
   "execution_count": 4,
   "id": "3b7ec1f6-ec94-4c03-8b5b-9742eac15620",
   "metadata": {
    "id": "AwKqITRfgp8K"
   },
   "outputs": [
    {
     "data": {
      "image/png": "[encoded data removed]",
      "text/plain": [
       "<Figure size 133.526x144.48 with 1 Axes>"
      ]
     },
     "execution_count": 4,
     "metadata": {},
     "output_type": "execute_result"
    }
   ],
   "source": [
    "# BLOCK 2\n",
    "\n",
    "### SOLUTION START ###\n",
    "qc = QuantumCircuit(1,1)\n",
    "qc.y(0)\n",
    "qc.draw(\"mpl\")\n",
    "\n",
    "#### SOLUTION END ###"
   ]
  },
  {
   "cell_type": "markdown",
   "id": "86637b9a-a610-4fcf-9a52-af1d8ecd0c28",
   "metadata": {
    "id": "M6JzISQwhIwV",
    "tags": []
   },
   "source": [
    "<a id=\"q1c\"></a>\n",
    "### The Z Gate\n",
    "\n",
    "The Z gate rotates the state vector by $\\pi$  radians about the z-axis on the bloch sphere.\n",
    "\n",
    "The syntax for a Z gate is: `qc.z(target)` where `qc` is an initialized `QuantumCircuit` and `target` is the number of the qubit where you would like to apply the gate.\n",
    "\n",
    "**BLOCK 3:**\n",
    "Initialize a new circuit and add a Z gate to it, then draw it."
   ]
  },
  {
   "cell_type": "code",
   "execution_count": 5,
   "id": "45a548b7-5f64-41bc-a2d5-1e1976a0ba4b",
   "metadata": {
    "id": "9cZAPnu3hU-8"
   },
   "outputs": [
    {
     "data": {
      "image/png": "[encoded data removed]",
      "text/plain": [
       "<Figure size 133.526x144.48 with 1 Axes>"
      ]
     },
     "execution_count": 5,
     "metadata": {},
     "output_type": "execute_result"
    }
   ],
   "source": [
    "# BLOCK 3\n",
    "\n",
    "### SOLUTION START ###\n",
    "qc = QuantumCircuit(1,1)\n",
    "qc.z(0)\n",
    "qc.draw(\"mpl\")\n",
    "\n",
    "#### SOLUTION END ###"
   ]
  },
  {
   "cell_type": "markdown",
   "id": "1e6fb347-694d-4e4c-8c11-e9b2f4c440cb",
   "metadata": {},
   "source": [
    "<a id=\"q1c\"></a>\n",
    "### The H Gate\n",
    "\n",
    "The H gate rotates the state vector by $\\pi$  radians about the xz-diagonal axis on the bloch sphere.\n",
    "\n",
    "The H gate creates a superposition.\n",
    "\n",
    "We will discuss the implications of this gate in workshop 2, for now we will only focus on gates as rotations of the Bloch sphere.\n",
    "\n",
    "The syntax for a H gate is: `qc.h(target)` where `qc` is an initialized `QuantumCircuit` and `target` is the number of the qubit where you would like to apply the gate.\n",
    "\n",
    "**BLOCK 4:**\n",
    "Initialize a new circuit and add a H gate to it, then draw it."
   ]
  },
  {
   "cell_type": "code",
   "execution_count": 6,
   "id": "6727e7fd-121a-4717-b0ca-3c1c9c83cec5",
   "metadata": {},
   "outputs": [
    {
     "data": {
      "image/png": "[encoded data removed]",
      "text/plain": [
       "<Figure size 133.526x144.48 with 1 Axes>"
      ]
     },
     "execution_count": 6,
     "metadata": {},
     "output_type": "execute_result"
    }
   ],
   "source": [
    "# BLOCK 4\n",
    "\n",
    "### SOLUTION START ###\n",
    "qc = QuantumCircuit(1,1)\n",
    "qc.h(0)\n",
    "qc.draw(\"mpl\")\n",
    "\n",
    "#### SOLUTION END ###"
   ]
  },
  {
   "cell_type": "markdown",
   "id": "5d7679c5-c474-490b-ac7b-2eebff36ddbc",
   "metadata": {
    "tags": []
   },
   "source": [
    "### The Measurement Gate\n",
    "\n",
    "\n",
    "\n",
    "The Measurement gate tells the backend when it is time to check the state of our qubits. Without applying a measurement gate to the circuit, the ouput will be the default 0 state.\n",
    "\n",
    "There are a few ways to apply measurement gates in `qiskit`, but we have found it is best to be specific and use the `qc.measure([qubits],[classical]` method. Here we pass in a list of each qubit, and a list to their respective classical bits. \n",
    "\n",
    "This following example would measure the 0th qubit to the 0th classical bit, the 1st qubit to the 1st classical bit and so on...\n",
    "\n",
    "```python\n",
    "qc = QuantumCircuit(3,3)\n",
    "qc.h(0)\n",
    "qc.x(1)\n",
    "qc.y(2)\n",
    "qc.measure([0,1,2],[0,1,2])\n",
    "```\n",
    "\n",
    "\n",
    "**BLOCK 5:**\n",
    "Initialize a new circuit with 2 qubits and 2 classical bits, apply a hadamard gate to each qubit, add measurement gates to it, and then draw it."
   ]
  },
  {
   "cell_type": "code",
   "execution_count": 12,
   "id": "bc49bc61-a648-43de-88a3-b4a886171228",
   "metadata": {},
   "outputs": [
    {
     "data": {
      "image/png": "[encoded data removed]",
      "text/plain": [
       "<Figure size 267.052x204.68 with 1 Axes>"
      ]
     },
     "execution_count": 12,
     "metadata": {},
     "output_type": "execute_result"
    }
   ],
   "source": [
    "# BLOCK 5\n",
    "\n",
    "### SOLUTION START ###\n",
    "qc = QuantumCircuit(2,2)\n",
    "qc.h(0)\n",
    "qc.h(1)\n",
    "qc.measure([0,1],[0,1])\n",
    "qc.draw(\"mpl\")\n",
    "\n",
    "### SOlUTION END ###"
   ]
  },
  {
   "cell_type": "markdown",
   "id": "88c60475-bddf-4580-be93-30650f64ff2c",
   "metadata": {},
   "source": [
    "# Simulating circuits\n",
    "\n",
    "\n",
    "The `aer_simulator` : an idealized simulator that emulates a perfect quantum computer.\n",
    "\n",
    "Using a simulator has 3 steps:\n",
    "1. Creating the backend, this tells qiskit where to run our circuit, here we use a simulator\n",
    "``` python\n",
    "qsim = Aer.get_backend('aer_simulator')\n",
    "```\n",
    "2. Creating a job: Asks the backend to run your circuit\n",
    "``` python\n",
    "job = execute(qc, backend=qsim, shots=1024)\n",
    "```\n",
    "3. Pulling the results from the job, this contains all the information from the experiment\n",
    "``` python \n",
    "result = job.result()\n",
    "```\n",
    "\n",
    "Once the result of the simulation has been recieved we normally like to visualize the counts in a histogram.\n",
    "This involves two steps:\n",
    "1. Getting the counts, this tells us how many of each state we have\n",
    "```python\n",
    "counts = result.get_counts(qc) \n",
    "```\n",
    "2. Plotting the counts, visualize in a bar graph!\n",
    "``` python\n",
    "plot_histogram(counts)\n",
    "```"
   ]
  },
  {
   "cell_type": "markdown",
   "id": "def2190a-4435-4ab3-b656-d41ceebeeb3b",
   "metadata": {},
   "source": [
    "**BLOCK 6:** Create a new 1 qubit, 1 classical bit quantum circuit, add add the X,Y,H, and Z gates and simulate the results"
   ]
  },
  {
   "cell_type": "code",
   "execution_count": 31,
   "id": "27052847-68a8-42ef-97b1-47df3fea6221",
   "metadata": {},
   "outputs": [
    {
     "data": {
      "image/png": "[encoded data removed]",
      "text/plain": [
       "<Figure size 374.326x144.48 with 1 Axes>"
      ]
     },
     "metadata": {},
     "output_type": "display_data"
    },
    {
     "data": {
      "image/png": "[encoded data removed]",
      "text/plain": [
       "<Figure size 504x360 with 1 Axes>"
      ]
     },
     "metadata": {},
     "output_type": "display_data"
    }
   ],
   "source": [
    "# BLOCK 6\n",
    "\n",
    "### SOlUTION START ###\n",
    "qc = QuantumCircuit(1,1)\n",
    "qc.x(0)\n",
    "qc.y(0)\n",
    "qc.h(0)\n",
    "qc.z(0)\n",
    "qc.measure([0],[0])\n",
    "display(qc.draw(\"mpl\"))\n",
    "\n",
    "qsim = Aer.get_backend(\"aer_simulator\")\n",
    "job = execute(qc, backend=qsim, shots=1024)\n",
    "result = job.result()\n",
    "\n",
    "counts = result.get_counts(qc)\n",
    "display(plot_histogram(counts))\n",
    "### SOlUTION END ###"
   ]
  },
  {
   "cell_type": "markdown",
   "id": "98a3ab57-3d3f-4a67-a2bc-7ea974bf15da",
   "metadata": {},
   "source": [
    "# Let's practice using qiskit as a python object!\n",
    "\n",
    "When we make a `qc = QuantumCircuit(1,1)` object, any gate applied to the quantum circuit will alter the original `qc` object. This allows us a very pythonic way to create quantum circuits using functions:\n",
    "\n",
    "``` python\n",
    "def circuit_altering_function(qc, qubit):\n",
    "    qc.x(qubit)\n",
    "```"
   ]
  },
  {
   "cell_type": "markdown",
   "id": "452829ff-77fc-40c2-af4c-a265499b1769",
   "metadata": {},
   "source": [
    "**EXAMPLE 7:** (We've done this for you) Define a function that applies a X gate to a `qc` argument. \n",
    "\n",
    "Your function should take in two arguments: a `target` qubit, and a `QuantumCircuit` object and return an altered QuantumCircuit object."
   ]
  },
  {
   "cell_type": "code",
   "execution_count": 39,
   "id": "c877b340-2f5a-4021-8512-6ea5ead7b986",
   "metadata": {},
   "outputs": [],
   "source": [
    "# EXAMPLE 7\n",
    "def apply_x(qubit, circ):\n",
    "    circ.x(qubit)\n",
    "    return circ"
   ]
  },
  {
   "cell_type": "markdown",
   "id": "2f2fbd47-65fd-4a21-a688-50d5e717e6cd",
   "metadata": {},
   "source": [
    "**BLOCK 8:** Define a function that applies a Y gate to a `qc` argument \n",
    "\n",
    "Your function should take in two arguments: a `target` qubit, and a `QuantumCircuit` object and return an altered QuantumCircuit object."
   ]
  },
  {
   "cell_type": "code",
   "execution_count": 34,
   "id": "636e99c1-4d99-4722-9ee7-44f25a633151",
   "metadata": {},
   "outputs": [],
   "source": [
    "# BLOCK 8\n",
    "\n",
    "### SOLUTION START ###\n",
    "def apply_y(qubit, circ):\n",
    "    circ.y(qubit)\n",
    "    return circ\n",
    "### SOLUTION END ###"
   ]
  },
  {
   "cell_type": "markdown",
   "id": "b75ed993-e9df-40b7-80a2-cb1de80ddec4",
   "metadata": {},
   "source": [
    "**BLOCK 9:** Define a function that applies a Z gate to a `qc` argument \n",
    "\n",
    "Your function should take in two arguments: a `target` qubit, and a `QuantumCircuit` object and return an altered QuantumCircuit object."
   ]
  },
  {
   "cell_type": "code",
   "execution_count": 35,
   "id": "20b95fa3-4e74-4afd-ba6c-f7443d169b5b",
   "metadata": {},
   "outputs": [],
   "source": [
    "# BLOCK 9\n",
    "\n",
    "### SOLUTION START ###\n",
    "def apply_z(qubit, circ):\n",
    "    circ.z(qubit)\n",
    "    return circ\n",
    "### SOLUTION END ###"
   ]
  },
  {
   "cell_type": "markdown",
   "id": "cc4eff62-a5e0-4dca-806e-642d7a146964",
   "metadata": {},
   "source": [
    "**BLOCK 10:** Define a function that applies a H gate to a `qc` argument \n",
    "\n",
    "Your function should take in two arguments: a `target` qubit, and a `QuantumCircuit` object and return an altered QuantumCircuit object."
   ]
  },
  {
   "cell_type": "code",
   "execution_count": 36,
   "id": "1430f623-58e1-458d-96a2-679a96290671",
   "metadata": {},
   "outputs": [],
   "source": [
    "# BLOCK 10\n",
    "\n",
    "### SOLUTION START ###\n",
    "def apply_h(qubit, circ):\n",
    "    circ.h(qubit)\n",
    "    return circ\n",
    "### SOLUTION END ###"
   ]
  },
  {
   "cell_type": "markdown",
   "id": "acfd4c4c-7fdb-445e-aff0-8e9ba8a2aa75",
   "metadata": {},
   "source": [
    "**BLOCK 11:** Define a function that applies measurement gates to a `qc` argument\n",
    "\n",
    "Your function should take in two arguments: a `qubit list`, a `classical bit list`, and a `QuantumCircuit` object and return an altered QuantumCircuit object."
   ]
  },
  {
   "cell_type": "code",
   "execution_count": 45,
   "id": "a320f650-86b6-4f30-882b-86fcb99a7c4e",
   "metadata": {},
   "outputs": [],
   "source": [
    "# BLOCK 11\n",
    "\n",
    "### SOLUTION START ###\n",
    "def apply_measure(qubit_list, classical_list, circ):\n",
    "    circ.measure(qubit_list, classical_list)\n",
    "    return circ\n",
    "### SOLUTION END ###"
   ]
  },
  {
   "cell_type": "markdown",
   "id": "b92b3b0f-99d5-4276-aa85-170b2c0e4211",
   "metadata": {},
   "source": [
    "**BLOCK 12:** Define a function that takes in a `qc` argument, requests a backend, runs the job and returns the result\n",
    "\n",
    "Your function should take in two arguments: a `target` qubit, and a `QuantumCircuit` object and return an altered QuantumCircuit object."
   ]
  },
  {
   "cell_type": "code",
   "execution_count": 46,
   "id": "d057f9c7-45d9-40fb-863d-f44b0cdc161e",
   "metadata": {},
   "outputs": [],
   "source": [
    "# BLOCK 12\n",
    "\n",
    "### SOLUTION START ###\n",
    "def simulate(circ):\n",
    "    qsim = Aer.get_backend(\"aer_simulator\")\n",
    "    job = execute(qc, backend=qsim, shots=1024)\n",
    "    result = job.result()\n",
    "    return result\n",
    "### SOLUTION END ###"
   ]
  },
  {
   "cell_type": "markdown",
   "id": "e4292d33-42fc-4694-a4ea-b996813fb276",
   "metadata": {},
   "source": [
    "**EXAMPLE 13:** (We've done this for you)\n",
    "Define a function that takes in a `result` object and plots a histogram.\n",
    "\n",
    "(Note you will have to return the result of `plot_histogram`)"
   ]
  },
  {
   "cell_type": "code",
   "execution_count": 47,
   "id": "7cff9a32-0bbd-4890-bb5f-64f16549bd91",
   "metadata": {},
   "outputs": [],
   "source": [
    "# EXAMPLE 13\n",
    "\n",
    "def plot_graph(circ):\n",
    "    counts = result.get_counts(qc)\n",
    "    hist = plot_histogram(counts)\n",
    "    return hist"
   ]
  },
  {
   "cell_type": "markdown",
   "id": "38ca8983-3c00-42b3-a455-11c3a8c97a00",
   "metadata": {
    "tags": []
   },
   "source": [
    "### Put it all together!\n",
    "\n",
    "**BLOCK 14:**\n",
    "Create a function that takes a python list of `(\"gate\", qubit)` tuples of type `str` and `int` respectively eg: `[(\"H\",1),(\"X\",2),(\"Y\",0),(\"Z\",1)]`, creates a quantum circuit of the necessary size (think carefully about how  the QuantumCircuit needs to be initialized), applies each of the gates using the functions above, and plots a histogram of the measured results."
   ]
  },
  {
   "cell_type": "code",
   "execution_count": 50,
   "id": "621b321b-0b33-4a77-b65f-e697a8165067",
   "metadata": {},
   "outputs": [],
   "source": [
    "# BLOCK 14\n",
    "\n",
    "def circuit_builder(gate_list):\n",
    "    ### SOLUTION START ###\n",
    "    max_qubits = max([qub for gate,qub in gate_list]) + 1\n",
    "    circ = QuantumCircuit(max_qubits, max_qubits)\n",
    "    for gate, qubit in gate_list:\n",
    "        if gate == \"X\":\n",
    "            apply_x(qubit, circ)\n",
    "        elif gate == \"Y\":\n",
    "            apply_y(qubit, circ)\n",
    "        elif gate == \"Z\":\n",
    "            apply_z(qubit, circ)\n",
    "        elif gate == \"H\":\n",
    "            apply_h(qubit, circ)\n",
    "\n",
    "    result = apply_measure([num for num in range(max_qubits)], [num for num in range(max_qubits)],  circ)\n",
    "    \n",
    "            \n",
    "    ### SOLUTION END ###\n",
    "    return plot_graph(result)"
   ]
  },
  {
   "cell_type": "code",
   "execution_count": 51,
   "id": "f881e266-1b6d-4e22-a231-e15f01d9eebe",
   "metadata": {},
   "outputs": [
    {
     "data": {
      "image/png": "[encoded data removed]",
      "text/plain": [
       "<Figure size 504x360 with 1 Axes>"
      ]
     },
     "execution_count": 51,
     "metadata": {},
     "output_type": "execute_result"
    }
   ],
   "source": [
    "# Test case:\n",
    "q_list = [(\"H\",1),(\"X\",2),(\"Y\",0),(\"Z\",1)]\n",
    "\n",
    "circuit_builder(q_list)"
   ]
  },
  {
   "cell_type": "markdown",
   "id": "cbcfc7ef-0e82-4d62-82da-dee9722f5239",
   "metadata": {
    "tags": []
   },
   "source": [
    "## Just for fun, Run on a real quantum computer! *(NOT REQUIRED)*\n",
    "\n",
    "First we need to find the least busy backend:\n",
    "```python\n",
    "IBMQ.load_account()\n",
    "provider = IBMQ.get_provider(hub='ibm-q')\n",
    "backend = least_busy(provider.backends(filters=lambda x: x.configuration().n_qubits >= 2 \n",
    "                                       and not x.configuration().simulator \n",
    "                                       and x.status().operational==True))\n",
    "print(\"least busy backend: \", backend)\n",
    "```\n",
    "\n",
    "Next we can send the job to be run\n",
    "``` python\n",
    "job = execute(qc, backend=backend, shots=100)\n",
    "result = job.result()\n",
    "```\n",
    "\n",
    "Lastly, we can again plot the results in the same way:\n",
    "\n",
    "``` python\n",
    "counts = result.get_counts(qc)\n",
    "plot_histogram(counts)\n",
    "```"
   ]
  },
  {
   "cell_type": "code",
   "execution_count": null,
   "id": "1132626b-2971-4eb1-8d73-37c6c1da5f02",
   "metadata": {},
   "outputs": [],
   "source": [
    "# EXTRA BLOCK"
   ]
  },
  {
   "cell_type": "markdown",
   "id": "5c8eb8bd-7793-408c-ba92-ab8025a8cd23",
   "metadata": {
    "jp-MarkdownHeadingCollapsed": true,
    "tags": []
   },
   "source": [
    "### © 2022 The Coding School\n",
    "\n",
    "**All rights reserved**\n",
    "\n",
    "*Use of this activity is for personal use only. Copying, reproducing, distributing, posting or sharing this activity in any manner with any third party are prohibited under the terms of this registration. All rights not specifically licensed under the registration are reserved.*"
   ]
  }
 ],
 "metadata": {
  "kernelspec": {
   "display_name": "Python 3 (ipykernel)",
   "language": "python",
   "name": "python3"
  },
  "language_info": {
   "codemirror_mode": {
    "name": "ipython",
    "version": 3
   },
   "file_extension": ".py",
   "mimetype": "text/x-python",
   "name": "python",
   "nbconvert_exporter": "python",
   "pygments_lexer": "ipython3",
   "version": "3.9.5"
  }
 },
 "nbformat": 4,
 "nbformat_minor": 5
}
