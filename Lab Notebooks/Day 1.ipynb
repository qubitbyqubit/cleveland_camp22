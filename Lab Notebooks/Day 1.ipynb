{
 "cells": [
  {
   "cell_type": "markdown",
   "id": "832eb706-a93f-4405-aee4-109c7e1c995e",
   "metadata": {
    "id": "2dyyf8qCbF7Y",
    "tags": []
   },
   "source": [
    "# Introduction to Quantum Computing Summer Program\n",
    "## Day 1 - Introduction to Python"
   ]
  },
  {
   "cell_type": "code",
   "execution_count": null,
   "id": "24b2a9d8-9c96-4556-9089-96c1a0e06d15",
   "metadata": {
    "id": "b2ddea95-0539-43d6-b753-15623aa1e5fc"
   },
   "outputs": [],
   "source": [
    "# Block 1 - Copy the code from the slide into this block and run it. Do you get the right output?"
   ]
  },
  {
   "cell_type": "code",
   "execution_count": null,
   "id": "2b94ffbc-7069-4293-b606-7f136128ec9b",
   "metadata": {
    "id": "df983920-56f0-40d2-aa0d-60e45e1b72a8"
   },
   "outputs": [],
   "source": [
    "# Block 2: Try printing your name! Print “_____, welcome to quantum class” where the blank is your name."
   ]
  },
  {
   "cell_type": "code",
   "execution_count": null,
   "id": "14e0fc00-2f00-4bed-9ccf-650a86c03fa0",
   "metadata": {
    "id": "fc92ef6f-bd5d-4281-85a3-d214dff232da"
   },
   "outputs": [],
   "source": [
    "# Block 3: Write down two print statements. Which print statement do you think gets executed first?"
   ]
  },
  {
   "cell_type": "code",
   "execution_count": null,
   "id": "4135dbc0-bff8-4c7d-a59b-0be66c6c6c65",
   "metadata": {
    "id": "5c68d14b-1e41-45f6-996f-a610b0ddb407"
   },
   "outputs": [],
   "source": [
    "# Block 4: Create a variable named cost_notebooks on your replit, and give it a value equal to 50. Run the code."
   ]
  },
  {
   "cell_type": "code",
   "execution_count": null,
   "id": "3a1a9f52-848d-4268-82ba-bace164fd3c8",
   "metadata": {
    "id": "d4e8bdad-9971-48b7-83a0-626deadeb6cb"
   },
   "outputs": [],
   "source": [
    "# Block 5: Try printing the number of the cost of notebooks you stored in cost_notebooks."
   ]
  },
  {
   "cell_type": "code",
   "execution_count": null,
   "id": "bd068732-873b-4ea9-a2b8-7b1267f1754b",
   "metadata": {
    "id": "a7b50660-9e49-49bb-998f-124f8167562b"
   },
   "outputs": [],
   "source": [
    "# Block 6: Store your name in a variable called name, and print it."
   ]
  },
  {
   "cell_type": "code",
   "execution_count": null,
   "id": "d0f227f4-e5c4-42d6-86b4-13491f6cf806",
   "metadata": {},
   "outputs": [],
   "source": [
    "variables: int strings\n",
    "for loops\n",
    "conditional statements\n",
    "lists\n",
    "functions"
   ]
  }
 ],
 "metadata": {
  "kernelspec": {
   "display_name": "Python 3 (ipykernel)",
   "language": "python",
   "name": "python3"
  },
  "language_info": {
   "codemirror_mode": {
    "name": "ipython",
    "version": 3
   },
   "file_extension": ".py",
   "mimetype": "text/x-python",
   "name": "python",
   "nbconvert_exporter": "python",
   "pygments_lexer": "ipython3",
   "version": "3.9.5"
  }
 },
 "nbformat": 4,
 "nbformat_minor": 5
}
