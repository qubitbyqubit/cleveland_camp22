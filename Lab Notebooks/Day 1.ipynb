{
 "cells": [
  {
   "cell_type": "markdown",
   "id": "832eb706-a93f-4405-aee4-109c7e1c995e",
   "metadata": {
    "id": "2dyyf8qCbF7Y",
    "tags": []
   },
   "source": [
    "<div class=\"alert alert-info\">\n",
    "    <h1><strong>2022 Cleveland In-Person Summer Camp Day 1 Lab</strong></h1>\n",
    "    <h2>Introduction to Coding in Python</h2>\n",
    "</div>"
   ]
  },
  {
   "cell_type": "markdown",
   "id": "97d6666b-4ae9-44e1-b38c-8ea93b6f4f9f",
   "metadata": {
    "id": "IOaZv_Avdo99"
   },
   "source": [
    "### **Concepts**\n",
    "\n",
    "1. Why Computer Science?\n",
    "2. IDEs/Workspace\n",
    "3. Program Flow\n",
    "4. Computational Thinking\n",
    "\n",
    "\n",
    "### **Some Keywords before we move on**\n",
    "**Computer Science**: the study of computers and how we can use them to solve human problems\n",
    "\n",
    "**Algorithm**: a list of steps to solve a problem\n",
    "\n",
    "**Computer Program**: a list of instructions that is written in code\n",
    "\n",
    "**Pseudocode**: normal writing used to represent what a program should look like"
   ]
  },
  {
   "cell_type": "markdown",
   "id": "6cdf8872-39b0-4256-95d0-d6f32d67231d",
   "metadata": {
    "id": "HOzxNDKPncok"
   },
   "source": [
    "# Print Statements\n",
    "---\n",
    "\n"
   ]
  },
  {
   "cell_type": "markdown",
   "id": "830cc2d9-1d12-44f3-9e57-46f5fe186860",
   "metadata": {
    "id": "8b0ZTRPBncor"
   },
   "source": [
    "### **Concepts**\n",
    "\n",
    "1. print() Function\n",
    "2. Printing Numbers and Strings Together\n",
    "\n",
    "```python\n",
    "print()\n",
    "```\n",
    "*   Strings = print(\"WORDS\")\n",
    "*   Numbers = print(NUM)"
   ]
  },
  {
   "cell_type": "markdown",
   "id": "0a4f3208-a20c-45d3-a5d6-3f28cdd4d4d9",
   "metadata": {
    "id": "biPGQtV-ncos"
   },
   "source": [
    "### Exercise #1\n",
    "---\n",
    "**Problem**: Print 3 sentences about your favorite foods."
   ]
  },
  {
   "cell_type": "markdown",
   "id": "edab107b-1050-4c99-9250-61adf99cea96",
   "metadata": {
    "id": "K_y-9gJjncou"
   },
   "source": [
    "##### **Solution**"
   ]
  },
  {
   "cell_type": "code",
   "execution_count": null,
   "id": "0c800396-555d-4670-bdc0-84f1f4cfed4c",
   "metadata": {
    "id": "ULhR-Uinncov"
   },
   "outputs": [],
   "source": [
    "print(\"I like peanut butter.\")\n",
    "print(\"My favorite ice cream flavor is chocolate.\")\n",
    "print(\"I think I like cookies more than brownies.\")"
   ]
  },
  {
   "cell_type": "markdown",
   "id": "f41e322e-1ea4-4812-9334-c5f327db6292",
   "metadata": {
    "id": "FNEYt30zncoz"
   },
   "source": [
    "### Exercise #2\n",
    "---\n",
    "**Problem**: Print a sentence that states how many siblings you have."
   ]
  },
  {
   "cell_type": "markdown",
   "id": "e782afa8-47a1-4fa8-aeca-7f7997ed1b7d",
   "metadata": {
    "id": "efWr9zUincoz"
   },
   "source": [
    "##### **Solution**"
   ]
  },
  {
   "cell_type": "code",
   "execution_count": null,
   "id": "43663940-3325-48c3-8a88-e626b19845ad",
   "metadata": {
    "id": "yRyWnClZnco0"
   },
   "outputs": [],
   "source": [
    "print(\"I have \" + str(3) + \" siblings.\")"
   ]
  },
  {
   "cell_type": "markdown",
   "id": "cab8f640-8ed9-4334-b984-458bea8cc55e",
   "metadata": {
    "id": "hT2WFzDKnco2"
   },
   "source": [
    "### Exercise #3\n",
    "---\n",
    "**Problem**: Debug the following line(s) of code:"
   ]
  },
  {
   "cell_type": "code",
   "execution_count": null,
   "id": "1d6d77fa-dfa4-4dc3-b526-a17a9bdb4cb7",
   "metadata": {
    "id": "f1Wmc3YHoz_s"
   },
   "outputs": [],
   "source": [
    "print(\"I was about \" + 7 + \" years old when I learned to ride a bike.\")"
   ]
  },
  {
   "cell_type": "markdown",
   "id": "cba38b9b-c32c-49cc-92d2-e6df354e9e25",
   "metadata": {
    "id": "0kw2zuu-nco2"
   },
   "source": [
    "##### **Solution**"
   ]
  },
  {
   "cell_type": "code",
   "execution_count": null,
   "id": "42bfbe3c-b886-4bec-9af2-ba453d0811a6",
   "metadata": {
    "id": "JrUhw80inco2"
   },
   "outputs": [],
   "source": [
    "print(\"I was about \" + str(7) + \" years old when I learned to ride a bike.\")"
   ]
  },
  {
   "cell_type": "markdown",
   "id": "455da924-977e-472e-a508-3147289b6342",
   "metadata": {
    "id": "iDJ-I_rMDbE-"
   },
   "source": [
    "# Variables\n",
    "---"
   ]
  },
  {
   "cell_type": "markdown",
   "id": "f4766de6-14fd-464a-84dd-839c650a3b48",
   "metadata": {
    "id": "JW9UWAQ7BP3f"
   },
   "source": [
    "### **Concepts**\n",
    "*This lesson introduces students to variables and data types. Building off of their last lesson, students will learn how to print variables.*\n",
    "\n",
    "1. Variables\n",
    "2. Data Types\n",
    "3. Printing Variables\n",
    "\n",
    "**variable**: containers for storing data values\n",
    "\n",
    "**Variable**\n",
    "*   Python Immutability\n",
    "*   Value/none\n",
    "\n",
    "**Number**\n",
    "* Int\n",
    "* Float\n",
    "\n",
    "**Python String**\n",
    "* String\n",
    "* Char\n",
    "\n",
    "**Boolean**\n",
    "* True/False\n",
    "\n",
    "**Lists**"
   ]
  },
  {
   "cell_type": "markdown",
   "id": "dfeb7071-60b6-4a72-9ddc-0574a2911ca4",
   "metadata": {
    "id": "yAqswP3QBczI"
   },
   "source": [
    "### Exercise #1\n",
    "---\n",
    "**Problem**: Name a variable `lucky` and assign it to your lucky number."
   ]
  },
  {
   "cell_type": "markdown",
   "id": "6ae58ec4-09a0-4b71-94e6-0b4fb561042f",
   "metadata": {
    "id": "Ls2-l-wLCuL3"
   },
   "source": [
    "##### **Solution**"
   ]
  },
  {
   "cell_type": "code",
   "execution_count": null,
   "id": "041ef980-c6b7-4661-a5ec-94e7371914ad",
   "metadata": {
    "id": "RLYC7tHiCvxt"
   },
   "outputs": [],
   "source": [
    "lucky = 33"
   ]
  },
  {
   "cell_type": "markdown",
   "id": "dc4f4ce8-2342-478b-a34e-50f4714a060b",
   "metadata": {
    "id": "1n29Z21KEumw"
   },
   "source": [
    "### Exercise #2\n",
    "---\n",
    "**Problem**: Convert the float, 89.668 to an integer."
   ]
  },
  {
   "cell_type": "markdown",
   "id": "849e26da-eeeb-4534-aa5c-b834b9f5579f",
   "metadata": {
    "id": "JEu7ZtvtEyd1"
   },
   "source": [
    "##### **Solution**"
   ]
  },
  {
   "cell_type": "code",
   "execution_count": null,
   "id": "b5f08113-4d0b-42ae-a688-7cd406b5644e",
   "metadata": {
    "id": "_1dY6nLtE8Yk"
   },
   "outputs": [],
   "source": [
    "int(89.668)"
   ]
  },
  {
   "cell_type": "markdown",
   "id": "1339a6ec-c946-44d6-b9c3-20ef17884585",
   "metadata": {
    "id": "-ExPBv3kE5rM"
   },
   "source": [
    "### Exercise #3\n",
    "---\n",
    "**Problem**: Create a variable `height` and assign it to value 5.3. Create a variable `days` and assign it to value 10. Print a sentence that states that your plant has grown 5.3 inches in 10 days."
   ]
  },
  {
   "cell_type": "markdown",
   "id": "a9aeac1e-94bb-4ef7-a31a-0affa94904a6",
   "metadata": {
    "id": "lXWGImr8E1Bd"
   },
   "source": [
    "##### **Solution**"
   ]
  },
  {
   "cell_type": "code",
   "execution_count": null,
   "id": "0388aa8b-0427-4f8f-8b43-639e9dceb50f",
   "metadata": {
    "id": "W5Xh8hXgE9Gm"
   },
   "outputs": [],
   "source": [
    "height = 5.3\n",
    "days = 10\n",
    "print(\"My plant has grown \" + str(height) + \" inches in \" + str(days) + \".\")"
   ]
  },
  {
   "cell_type": "markdown",
   "id": "75d0a33e-851f-46c5-91bf-d8d06e4eeec2",
   "metadata": {
    "id": "vaBnbO5eqGgE"
   },
   "source": [
    "### Exercise #4\n",
    "---\n",
    "**Problem**: Create a variable `cities` and assign it your list of favorite cities"
   ]
  },
  {
   "cell_type": "markdown",
   "id": "f38c284e-4a97-45fc-9493-3c47cb800106",
   "metadata": {
    "id": "aZ50vhS6qV1Q"
   },
   "source": [
    "**Solution**"
   ]
  },
  {
   "cell_type": "markdown",
   "id": "ced6656b-11f1-4fa4-97fb-d878dca96a49",
   "metadata": {
    "id": "oxNL_LdqyFVz",
    "tags": []
   },
   "source": [
    "# Conditionals\n",
    "---\n",
    "\n"
   ]
  },
  {
   "cell_type": "markdown",
   "id": "c01f465a-faa5-4fed-8340-5319d58acb3a",
   "metadata": {
    "id": "cnZz9qM0yFV1"
   },
   "source": [
    "### **Concepts**\n",
    "\n",
    "1. Conditionals\n",
    "  - If, else, elif"
   ]
  },
  {
   "cell_type": "markdown",
   "id": "e4630df6-4c26-4f65-a4e0-7c1fc300fd7d",
   "metadata": {
    "id": "FJQZtesOyFV1"
   },
   "source": [
    "### Exercise #1\n",
    "---\n",
    "**Problem**: Ask the user to enter their test grade. If the grade is a 65 or over, tell them they passed. If the grade is below a 65 tell them they did not pass."
   ]
  },
  {
   "cell_type": "markdown",
   "id": "c5168bda-35b5-4860-bf90-e5323c7d826b",
   "metadata": {
    "id": "1k7Z8SOoyFV2"
   },
   "source": [
    "##### **Solution**"
   ]
  },
  {
   "cell_type": "code",
   "execution_count": null,
   "id": "c7ddb445-2fd9-46ca-95e8-a04132342e8c",
   "metadata": {
    "id": "58Hm9j9CyFV2"
   },
   "outputs": [],
   "source": [
    "grade = int(input(\"What did you get on the test?\"))\n",
    "\n",
    "if grade >= 65:\n",
    "    print(\"Congrats! You passed!\")\n",
    "else:\n",
    "    print(\"Sorry, you did not pass.\")"
   ]
  },
  {
   "cell_type": "markdown",
   "id": "538a26f4-ccf2-47b9-904b-b750a8ecd4fe",
   "metadata": {
    "id": "W1flKJidyFV6"
   },
   "source": [
    "### Exercise #2\n",
    "---\n",
    "**Problem**: Ask the user to input how many seashells they collected. If they have 3 seashells, tell them to give 1 seashell to their friend. If they have more than 3 seashells, tell them to give their friend 2 seashells. If they have less than 3 seashells, tell them to keep them for themselves."
   ]
  },
  {
   "cell_type": "markdown",
   "id": "b0c40bae-7fb8-4ac4-84eb-72c7913f26cb",
   "metadata": {
    "id": "ijrrxVbuyFV6"
   },
   "source": [
    "##### **Solution**"
   ]
  },
  {
   "cell_type": "code",
   "execution_count": null,
   "id": "f6684fc1-3673-4cc1-8ef6-459a06696413",
   "metadata": {
    "id": "_xtbp4z-yFV7"
   },
   "outputs": [],
   "source": [
    "seashells = int(input(\"How many seashells do you have?\"))\n",
    "\n",
    "if seashells == 3:\n",
    "    print(\"Give your friend a seashell.\")\n",
    "elif seashells > 3:\n",
    "    print(\"Give your friend 2 seashells.\")\n",
    "else:\n",
    "    print(\"Keep the seashells for yourself.\")"
   ]
  },
  {
   "cell_type": "markdown",
   "id": "a2cffe7a-b800-4cfd-93b2-db666f92c888",
   "metadata": {
    "id": "tjjfn0YByFV-"
   },
   "source": [
    "### Exercise #3\n",
    "---\n",
    "**Problem**: Ask the user what they like the LEAST out of the colors green, purple, and orange. If their least favorite is also your least favorite print \"Me too!.\" If not, print \"I disagree.\""
   ]
  },
  {
   "cell_type": "markdown",
   "id": "4e773139-d019-4462-9f41-a95bf5cc9a8f",
   "metadata": {
    "id": "0huF0yWayFV-"
   },
   "source": [
    "##### **Solution**"
   ]
  },
  {
   "cell_type": "code",
   "execution_count": null,
   "id": "4f5163ea-df3d-4d1c-b721-49826e3fd8c2",
   "metadata": {
    "id": "0eryQ8H8yFV-"
   },
   "outputs": [],
   "source": [
    "color = str(input(\"What color do you like the least out of: green, purple, orange?\"))\n",
    "\n",
    "if color == \"orange\":\n",
    "    print(\"Me too!\")\n",
    "else:\n",
    "    print(\"I disagree.\")"
   ]
  },
  {
   "cell_type": "markdown",
   "id": "4bd71a0a-a39b-4566-9363-1db00ea1e4a5",
   "metadata": {
    "id": "tjjfn0YByFV-"
   },
   "source": [
    "### Exercise #4\n",
    "---\n",
    "**Problem**: Ask the user what they like the LEAST out of the colors green, purple, and orange. If their least favorite is also your least favorite print \"Me too!.\" If not, print \"I disagree.\" If they write \"none\" then `pass` and respond with nothing!"
   ]
  },
  {
   "cell_type": "markdown",
   "id": "987cee0a-a8d3-4b95-b964-bfae6192907c",
   "metadata": {
    "id": "0huF0yWayFV-"
   },
   "source": [
    "##### **Solution**"
   ]
  },
  {
   "cell_type": "code",
   "execution_count": 3,
   "id": "b7ceeca4-6d83-4904-90e8-2a11e12b84cb",
   "metadata": {
    "id": "0eryQ8H8yFV-"
   },
   "outputs": [
    {
     "name": "stdin",
     "output_type": "stream",
     "text": [
      "What color do you like the least out of: green, purple, orange? \n"
     ]
    }
   ],
   "source": [
    "color = str(input(\"What color do you like the least out of: green, purple, orange?\"))\n",
    "\n",
    "if color == \"orange\":\n",
    "    print(\"Me too!\")\n",
    "elif color == \"\":\n",
    "    pass\n",
    "else:\n",
    "    print(\"I disagree.\")"
   ]
  },
  {
   "cell_type": "markdown",
   "id": "a1eda280-952a-4ebb-a771-bf48996bd367",
   "metadata": {
    "id": "RMzrBsYd1ezY"
   },
   "source": [
    "# For Loops\n",
    "---\n",
    "\n"
   ]
  },
  {
   "cell_type": "markdown",
   "id": "f81c2fec-0a5b-4c52-9217-4700cebd9134",
   "metadata": {
    "id": "wpRhp_vL1ezZ"
   },
   "source": [
    "### **Concepts**\n",
    "\n",
    "1. For Loops\n",
    "2. Range Function\n",
    "\n",
    "**iterable**: something whose elements are able to be looked through (ex: lists, strings)\n",
    "\n",
    "**terminating condition**: the condition under which the loop is done executing\n",
    "\n",
    "**loop body**: the code that is executed inside the loop"
   ]
  },
  {
   "cell_type": "markdown",
   "id": "09f90ee8-0cee-4307-add9-636629fa9edc",
   "metadata": {
    "id": "ifB1gFm41ezb"
   },
   "source": [
    "### Exercise #1\n",
    "---\n",
    "**Problem**: Print the product of the numbers in the list `numbers`."
   ]
  },
  {
   "cell_type": "code",
   "execution_count": null,
   "id": "1342c3fb-ec8e-441b-95b6-69dba006d3b5",
   "metadata": {
    "id": "8IhXiLc42zT4"
   },
   "outputs": [],
   "source": [
    "numbers = [1, 5, 7, 3]"
   ]
  },
  {
   "cell_type": "markdown",
   "id": "c3d596cf-273a-4dfd-b642-4e55fab45cb3",
   "metadata": {
    "id": "IgGrZG7O1ezc"
   },
   "source": [
    "##### **Solution**"
   ]
  },
  {
   "cell_type": "code",
   "execution_count": null,
   "id": "2c406e7b-eb8b-414d-9555-df8651ac7ffd",
   "metadata": {
    "id": "MdvYq4Qd1ezc"
   },
   "outputs": [],
   "source": [
    "numbers = [1, 5, 7, 3]\n",
    "product = 1;\n",
    "\n",
    "for num in numbers:\n",
    "    product = product * num\n",
    "\n",
    "print(product)"
   ]
  },
  {
   "cell_type": "markdown",
   "id": "7732c6fb-4cb3-4020-b6e1-1ca92ca3be8a",
   "metadata": {
    "id": "Vx2Q3kNl1ezg"
   },
   "source": [
    "### Exercise #2\n",
    "---\n",
    "**Problem**: Print 0, 1, 2, 3, 0, 1, 2, 3 using two for loops (commas not necessary)."
   ]
  },
  {
   "cell_type": "markdown",
   "id": "0e454353-a8d9-42b2-9b78-c2e4e1197494",
   "metadata": {
    "id": "HN4aD45h1ezg"
   },
   "source": [
    "##### **Solution**"
   ]
  },
  {
   "cell_type": "code",
   "execution_count": null,
   "id": "1467e414-581c-43c4-90e1-d48cecca55e6",
   "metadata": {
    "id": "KVdtI1rW1ezh"
   },
   "outputs": [],
   "source": [
    "for x in range(2):\n",
    "    for i in range(4):\n",
    "        print(i)"
   ]
  },
  {
   "cell_type": "markdown",
   "id": "720de1f1-669f-477d-b979-d36ecc5d3145",
   "metadata": {
    "id": "dDsiPqtW1ezj"
   },
   "source": [
    "### Exercise #3\n",
    "---\n",
    "**Problem**: Print the sum of the even numbers from 4 to 9."
   ]
  },
  {
   "cell_type": "markdown",
   "id": "c14459cf-6b3a-4c40-96d1-b75ec8b57dbd",
   "metadata": {
    "id": "6rgNwT5g1ezk"
   },
   "source": [
    "##### **Solution**"
   ]
  },
  {
   "cell_type": "code",
   "execution_count": null,
   "id": "3391888f-13ed-49a1-865e-3d403d6f3c8b",
   "metadata": {
    "id": "DcwWFrq91ezk"
   },
   "outputs": [],
   "source": [
    "add = 0\n",
    "for x in range(4, 10):\n",
    "    if x % 2 == 0:\n",
    "        add = add + x\n",
    "print(add)"
   ]
  },
  {
   "cell_type": "markdown",
   "id": "ede36c5e-c944-4ddd-b842-86182bf5f723",
   "metadata": {
    "id": "xsSWCsZW75OA"
   },
   "source": [
    "#  Functions\n",
    "---\n",
    "\n"
   ]
  },
  {
   "cell_type": "markdown",
   "id": "3d933118-770d-40e2-a5cc-c7d7631371c4",
   "metadata": {
    "id": "imZ1JbjN75OD"
   },
   "source": [
    "### **Concepts**\n",
    "\n",
    "1. Functions\n",
    "2. Parameters\n",
    "3. Return/Function Output\n",
    "\n",
    "**function**: a named section of a program that performs a specific task\n",
    "\n",
    "The parts of a function are as follows: \n",
    "* the `def` keyword, which says you are about to define a function\n",
    "* A function name\n",
    "* A set of parenthesis\n",
    "* Parameters (optional)\n",
    "* A colon after the parenthesis\n",
    "* A x line function body"
   ]
  },
  {
   "cell_type": "markdown",
   "id": "0d7b9e5b-cc64-4234-a9fe-4c7cb3a179f9",
   "metadata": {
    "id": "7L0qtjaP75OD"
   },
   "source": [
    "### Exercise #1\n",
    "---\n",
    "**Problem**: Write a function `multiply` that takes two integer parameters and prints the product of them."
   ]
  },
  {
   "cell_type": "markdown",
   "id": "a16a7d62-deec-4516-aa08-42d5288cd6cc",
   "metadata": {
    "id": "iSj3wZ2i75OE"
   },
   "source": [
    "##### **Solution**"
   ]
  },
  {
   "cell_type": "code",
   "execution_count": null,
   "id": "c3e9fa68-20f5-40ca-bd53-f4cb9dc4a777",
   "metadata": {
    "id": "iaUEIvd275OE"
   },
   "outputs": [],
   "source": [
    "def multiply(x, y):\n",
    "    product = x * y\n",
    "    print(product)"
   ]
  },
  {
   "cell_type": "markdown",
   "id": "8c3c994c-916a-4e2f-8c95-df017b87527d",
   "metadata": {
    "id": "dmrL6c1w75OI"
   },
   "source": [
    "### Exercise #2\n",
    "---\n",
    "**Problem**: What are the parameters of the following function?"
   ]
  },
  {
   "cell_type": "code",
   "execution_count": null,
   "id": "3c12d93f-948d-49a7-a084-35d5854cd418",
   "metadata": {
    "id": "TKchADy-9iSd"
   },
   "outputs": [],
   "source": [
    "def hello():\n",
    "    print(\"Hello, there! I hope you like this lesson!\")"
   ]
  },
  {
   "cell_type": "markdown",
   "id": "fe3d2bc3-1bd9-497b-8d87-9871195e0b7b",
   "metadata": {
    "id": "XCt18zdK75OJ"
   },
   "source": [
    "##### **Solution**"
   ]
  },
  {
   "cell_type": "markdown",
   "id": "4cf65a90-1ef6-4961-b041-551d616d3017",
   "metadata": {
    "id": "YTOv57EJ9paR"
   },
   "source": [
    "There are no parameters."
   ]
  },
  {
   "cell_type": "markdown",
   "id": "66a07fa9-11c8-44a9-a1ac-e0d8243ee700",
   "metadata": {
    "id": "BMv_zooO_4AM"
   },
   "source": [
    "### Exercise #3\n",
    "---\n",
    "**Problem**: Create a function `name` that asks a user for their name, stores it in a variable, and returns that variable. Call the function by printing the sentence: \"Your name is X.\""
   ]
  },
  {
   "cell_type": "markdown",
   "id": "a720da99-1957-4535-8c68-f02b5cf8eeec",
   "metadata": {
    "id": "FMBQ4quk_4AS"
   },
   "source": [
    "##### **Solution**"
   ]
  },
  {
   "cell_type": "code",
   "execution_count": null,
   "id": "07e0c008-5784-423f-beb2-9eab0b2f735a",
   "metadata": {
    "id": "ETB_g4V2_4AP"
   },
   "outputs": [],
   "source": [
    "def name():\n",
    "    n = input(\"What is your name?\")\n",
    "    return n\n",
    "\n",
    "print(\"Your name is \" + str(name()) + \".\")"
   ]
  },
  {
   "cell_type": "code",
   "execution_count": null,
   "id": "0cb85dc7-f9cd-4d9b-8e63-7867efc1b0e2",
   "metadata": {
    "id": "F62cN8xSqDoa"
   },
   "outputs": [],
   "source": [
    "cities = [\"New York\", \"San Francisco\", \"Prague\"]"
   ]
  }
 ],
 "metadata": {
  "kernelspec": {
   "display_name": "Python 3 (ipykernel)",
   "language": "python",
   "name": "python3"
  },
  "language_info": {
   "codemirror_mode": {
    "name": "ipython",
    "version": 3
   },
   "file_extension": ".py",
   "mimetype": "text/x-python",
   "name": "python",
   "nbconvert_exporter": "python",
   "pygments_lexer": "ipython3",
   "version": "3.9.5"
  }
 },
 "nbformat": 4,
 "nbformat_minor": 5
}
